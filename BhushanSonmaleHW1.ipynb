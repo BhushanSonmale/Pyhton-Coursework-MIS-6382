{
 "cells": [
  {
   "cell_type": "code",
   "execution_count": 26,
   "metadata": {},
   "outputs": [
    {
     "name": "stdout",
     "output_type": "stream",
     "text": [
      "Please enter a positive four digit number : 1234\n",
      "1234 in reverse is 4321\n"
     ]
    }
   ],
   "source": [
    "'''\n",
    "Q.1 Write a program that reads a 4-digit integer and reverses all the digits in the integer.  For example, if an integer \n",
    "is 9324, the output should be 4239.   If the user enters a non 4-digit value, the program should print a message \n",
    "and exit.\n",
    "\n",
    "'''\n",
    "x = (input('Please enter a positive four digit number : '))\n",
    "if int(x) < 1000:\n",
    "    print('You entered an invalid value.\\nExiting the program!')\n",
    "else:\n",
    "    reverse=[]\n",
    "    index = len(x) \n",
    "    while index > 0: \n",
    "        reverse += x[ index - 1 ] \n",
    "        index = index - 1 \n",
    "    print(x +' in reverse is '+ reverse[0]+reverse[1]+reverse[2]+reverse[3])"
   ]
  },
  {
   "cell_type": "code",
   "execution_count": 9,
   "metadata": {},
   "outputs": [
    {
     "name": "stdout",
     "output_type": "stream",
     "text": [
      "Enter the first two-digit number: 25\n",
      "Enter the second two-digit number: 25\n",
      "Enter the third two-digit number: 25\n",
      "Three times the sum of 25,25, and 25 is 225\n"
     ]
    }
   ],
   "source": [
    "'''\n",
    "Q.2 Write a Python program to calculate the sum of three given numbers, if the three number are all the same\n",
    "then return thrice of their sum, otherwise return four times the sum.\n",
    "\n",
    "'''\n",
    "a = int((input('Enter the first two-digit number: ')))\n",
    "b = int((input('Enter the second two-digit number: ')))\n",
    "c = int((input('Enter the third two-digit number: ')))\n",
    "if a == b == c:\n",
    "    sum=3*(a+b+c)\n",
    "    print('Three times the sum of {0},{1}, and {2} is {3}'.format(a,b,c,sum))\n",
    "else:\n",
    "    sum=4*(a+b+c)\n",
    "    print('Four times the sum of {0},{1}, and {2} is {3}'.format(a,b,c,sum))"
   ]
  },
  {
   "cell_type": "code",
   "execution_count": 9,
   "metadata": {},
   "outputs": [
    {
     "name": "stdout",
     "output_type": "stream",
     "text": [
      "Enter the first number: 25\n",
      "Enter the second number: 15\n",
      "Enter the third number: 35\n",
      "Median of the above three numbers -\n",
      "25\n"
     ]
    }
   ],
   "source": [
    "'''\n",
    "\n",
    "Q.3 Write a Python program to find the median among three given numbers. \n",
    "\n",
    "'''\n",
    "a = int((input('Enter the first number: ')))\n",
    "b = int((input('Enter the second number: ')))\n",
    "c = int((input('Enter the third number: ')))\n",
    "if a>b:\n",
    "    if a<c:\n",
    "        median=a\n",
    "    elif b>c:\n",
    "        median=b\n",
    "    else:\n",
    "        median=c\n",
    "else:\n",
    "    if a>c:\n",
    "        median=a\n",
    "    elif b<c:\n",
    "        median=b\n",
    "    else:\n",
    "        median=c\n",
    "print('Median of the above three numbers -\\n{0}'.format(median))"
   ]
  },
  {
   "cell_type": "code",
   "execution_count": 24,
   "metadata": {},
   "outputs": [
    {
     "name": "stdout",
     "output_type": "stream",
     "text": [
      "Enter x1: 5\n",
      "Enter y1: 3\n",
      "Enter x2: 2\n",
      "Enter y2: 1\n",
      "Enter x: 3\n",
      "Enter y: 2\n",
      "True\n"
     ]
    }
   ],
   "source": [
    "'''\n",
    "\n",
    "Q4: Write a program that takes as input two opposite corners of a rectangle: (x1,y1) and (x2,y2).  Finally, the \n",
    "user is prompted for the coordinates of a third point (x,y). The program should print Boolean value True or False \n",
    "based on whether the point (x,y) lies inside the rectangle. If the point lies on the rectangle, the program should \n",
    "print False.\n",
    "\n",
    "'''\n",
    "x1 = int((input('Enter x1: ')))\n",
    "y1 = int((input('Enter y1: ')))\n",
    "x2 = int((input('Enter x2: ')))\n",
    "y2 = int((input('Enter y2: ')))\n",
    "x = int((input('Enter x: ')))\n",
    "y = int((input('Enter y: ')))\n",
    "if ((x1<x<x2)or(x1>x>x2)) and ((y1<y<y2)or(y1>y>y2)):\n",
    "    print('True')\n",
    "else:\n",
    "    print('False')"
   ]
  },
  {
   "cell_type": "code",
   "execution_count": null,
   "metadata": {},
   "outputs": [],
   "source": []
  }
 ],
 "metadata": {
  "kernelspec": {
   "display_name": "Python 3",
   "language": "python",
   "name": "python3"
  },
  "language_info": {
   "codemirror_mode": {
    "name": "ipython",
    "version": 3
   },
   "file_extension": ".py",
   "mimetype": "text/x-python",
   "name": "python",
   "nbconvert_exporter": "python",
   "pygments_lexer": "ipython3",
   "version": "3.7.3"
  }
 },
 "nbformat": 4,
 "nbformat_minor": 2
}
