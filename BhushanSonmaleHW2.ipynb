{
 "cells": [
  {
   "cell_type": "code",
   "execution_count": 6,
   "metadata": {},
   "outputs": [
    {
     "name": "stdout",
     "output_type": "stream",
     "text": [
      "Enter a positive integer: 18\n",
      "The sum of 18 positive integers is: 171\n"
     ]
    }
   ],
   "source": [
    "'''\n",
    "Q1: Write a python program to sum of the first n positive integers after\n",
    "accepting the value of n from the user.\n",
    "\n",
    "'''\n",
    "\n",
    "n = int((input('Enter a positive integer: ')))\n",
    "sum=0\n",
    "if n<=0:\n",
    "    print('{0} is an invalid positive integer. Exiting the program'.format(n))\n",
    "else:\n",
    "    for i in range(1,n+1,1):\n",
    "        sum=sum + i \n",
    "    print('The sum of {0} positive integers is: {1}'.format(n,sum))"
   ]
  },
  {
   "cell_type": "code",
   "execution_count": 9,
   "metadata": {},
   "outputs": [
    {
     "name": "stdout",
     "output_type": "stream",
     "text": [
      "Enter the first number: 30\n",
      "Enter the second number: 54\n",
      "The GCD of 30 and 54 is 6\n"
     ]
    }
   ],
   "source": [
    "'''\n",
    "Q2. Given two positive integers x and y, write a program to print the\n",
    "Greatest Common Divisor (GCD) of x and y.\n",
    "\n",
    "'''\n",
    "\n",
    "def gcdfun(x,y):\n",
    "    if x>y:\n",
    "        num=y\n",
    "    else:\n",
    "        num=x\n",
    "    for i in range(1,num+1):\n",
    "        if((x % i == 0) and (y % i == 0)):\n",
    "            gcd=i\n",
    "    return gcd\n",
    "\n",
    "x = int((input('Enter the first number: ')))\n",
    "y = int((input('Enter the second number: ')))\n",
    "print('The GCD of {0} and {1} is {2}'.format(x,y,gcdfun(x,y)))        "
   ]
  },
  {
   "cell_type": "code",
   "execution_count": 18,
   "metadata": {},
   "outputs": [
    {
     "name": "stdout",
     "output_type": "stream",
     "text": [
      "Enter a positive integer: 99\n",
      "99 is a composite number.\n"
     ]
    }
   ],
   "source": [
    "'''\n",
    "Q3: An integer, greater than 1, that is only divisible by 1 and itself is\n",
    "called a prime number. All other numbers greater than 1 are called\n",
    "composite numbers. The integers 0 and 1 are neither prime nor\n",
    "composite. Write a python program that requests a positive integer from\n",
    "the user, determines if it is a prime, composite or neither prime or\n",
    "composite and prints the message.\n",
    "\n",
    "'''\n",
    "\n",
    "number = int((input('Enter a positive integer: ')))\n",
    "if number>1:\n",
    "    for i in range (2,number//2):\n",
    "        if(number % i == 0):\n",
    "            print('{0} is a composite number.'.format(number))\n",
    "            break\n",
    "    else:\n",
    "            print('{0} is a prime number.'.format(number))\n",
    "else:\n",
    "    if(number == 0 or number ==1):\n",
    "        print('{0} is neither prime nor composite.'.format(number))\n",
    "    else:\n",
    "        print('Enter a valid positive integer!')"
   ]
  },
  {
   "cell_type": "code",
   "execution_count": 22,
   "metadata": {},
   "outputs": [
    {
     "name": "stdout",
     "output_type": "stream",
     "text": [
      "Enter a positive integer: 12\n",
      "The square of 1 is 1\n",
      "The square of 2 is 4\n",
      "The square of 3 is 9\n",
      "The square of 4 is 16\n",
      "The square of 5 is 25\n",
      "The square of 6 is 36\n",
      "The square of 7 is 49\n",
      "The square of 8 is 64\n",
      "The square of 9 is 81\n",
      "The square of 10 is 100\n",
      "The square of 11 is 121\n",
      "The square of 12 is 144\n"
     ]
    }
   ],
   "source": [
    "'''\n",
    "Q4: Write a Python function called print_square() that accepts an integer\n",
    "as input and prints out the square of all numbers between 1 and that\n",
    "integer (both included). Then call the function from main() after\n",
    "getting the value of n from the user. Note: Your submission MUST\n",
    "consist of the functions definitions for both main() as well as\n",
    "print_square().\n",
    "\n",
    "'''\n",
    "\n",
    "def print_square(x):\n",
    "    #print('entered def print_square')\n",
    "    for i in range(1,x+1):\n",
    "        sqrx=i*i\n",
    "        print('The square of {0} is {1}'.format(i,sqrx))\n",
    "    \n",
    "def main():\n",
    "    #print('entered def main')\n",
    "    n = int((input('Enter a positive integer: ')))\n",
    "    if n<1:\n",
    "        print('You have entered an invalid number. Exiting the program')\n",
    "    else:\n",
    "        print_square(n)\n",
    "          \n",
    "#print('entered call main')\n",
    "main()"
   ]
  },
  {
   "cell_type": "code",
   "execution_count": null,
   "metadata": {},
   "outputs": [],
   "source": []
  },
  {
   "cell_type": "code",
   "execution_count": null,
   "metadata": {},
   "outputs": [],
   "source": []
  }
 ],
 "metadata": {
  "kernelspec": {
   "display_name": "Python 3",
   "language": "python",
   "name": "python3"
  },
  "language_info": {
   "codemirror_mode": {
    "name": "ipython",
    "version": 3
   },
   "file_extension": ".py",
   "mimetype": "text/x-python",
   "name": "python",
   "nbconvert_exporter": "python",
   "pygments_lexer": "ipython3",
   "version": "3.7.3"
  }
 },
 "nbformat": 4,
 "nbformat_minor": 2
}
